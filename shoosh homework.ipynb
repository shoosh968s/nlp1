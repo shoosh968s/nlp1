{
 "cells": [
  {
   "attachments": {},
   "cell_type": "markdown",
   "metadata": {},
   "source": [
    "# Natural Language Processing with Python\n",
    "---\n",
    "### Assignment 1\n",
    "\n",
    "- **Question1**\n",
    "<br>Print all words in text2 based on the following settings. The output should be in the form of a list of words: ['w1', 'w2', ...] where w means word.\n",
    " - a) Comparative words ending with ‘er’ or ‘est’ .\n",
    " - b) Words containing sequence letters ‘ion’.\n",
    " - c) Words having an initial capital and word length is less than 6 letters.\n",
    " - d) Words not ending in ‘ing’ and starting with ‘dis’ or ‘un’.\n",
    "- **Question2**\n",
    "<br>Discover all the six-letter words in the (text1). With the help of a frequency distribution function (FreqDist) explained in Pg17, show the top twenty words in these words in increasing order according to the frequency.\n",
    "- **Question3**\n",
    "<br>Find the last two words of text6."
   ]
  },
  {
   "cell_type": "code",
   "execution_count": 1,
   "metadata": {
    "scrolled": true
   },
   "outputs": [
    {
     "name": "stdout",
     "output_type": "stream",
     "text": [
      "*** Introductory Examples for the NLTK Book ***\n",
      "Loading text1, ..., text9 and sent1, ..., sent9\n",
      "Type the name of the text or sentence to view it.\n",
      "Type: 'texts()' or 'sents()' to list the materials.\n",
      "text1: Moby Dick by Herman Melville 1851\n",
      "text2: Sense and Sensibility by Jane Austen 1811\n",
      "text3: The Book of Genesis\n",
      "text4: Inaugural Address Corpus\n",
      "text5: Chat Corpus\n",
      "text6: Monty Python and the Holy Grail\n",
      "text7: Wall Street Journal\n",
      "text8: Personals Corpus\n",
      "text9: The Man Who Was Thursday by G . K . Chesterton 1908\n"
     ]
    }
   ],
   "source": [
    "# import texts from nltk.book packages.\n",
    "from nltk.book import *"
   ]
  },
  {
   "cell_type": "code",
   "execution_count": 2,
   "metadata": {},
   "outputs": [],
   "source": [
    "## convert from Text to list the assign to Words_List Variable.\n",
    "Words_List = list(text2)"
   ]
  },
  {
   "cell_type": "code",
   "execution_count": 12,
   "metadata": {},
   "outputs": [
    {
     "ename": "SyntaxError",
     "evalue": "invalid syntax (<ipython-input-12-dd236a71df26>, line 1)",
     "output_type": "error",
     "traceback": [
      "\u001b[0;36m  File \u001b[0;32m\"<ipython-input-12-dd236a71df26>\"\u001b[0;36m, line \u001b[0;32m1\u001b[0m\n\u001b[0;31m    <a id=\"section_ID\"></a>\u001b[0m\n\u001b[0m    ^\u001b[0m\n\u001b[0;31mSyntaxError\u001b[0m\u001b[0;31m:\u001b[0m invalid syntax\n"
     ]
    }
   ],
   "source": [
    "# Question1 (a)\n",
    "Words_collection = [] ## Create new list.\n",
    "for word in Words_List: ## For loop that iterates over words_list.\n",
    "    if word.endswith(('est' , 'er')): ## add word to Words_collection list if end with est or er.\n",
    "        Words_collection.append(word)\n",
    "## join function used to convert from list to string and set used to remove the duplicate words.\n",
    "\" \".join(set(Words_collection))"
   ]
  },
  {
   "cell_type": "code",
   "execution_count": 4,
   "metadata": {},
   "outputs": [
    {
     "data": {
      "text/plain": [
       "'confirmation conciliation fashionable separations editions vexation precision disposition disproportion consultation comprehension alteration indisposition execution inspection perturbation information commission irrational humiliations salutation composition affectionately portion collation stationer invention relations negotiation foundation diminution recommendation explanations irritation protection dimensions misconstruction exclamations commissioned action mention position emotion imperfection anticipations obligations directions supplication ambition passions reflections oppression contribution concession moderation occupations attention consternation compassion illustration fashioned imaginations attentions desperation mansion affliction notions projection observation connections passionate actions attractions indecision rationally occasioned imagination promotion direction acquisition collection assertions representations narration connection admission instructions representation protestations passion motion completion alterations unintentional presentation persuasion suspicions intrusion occasions desertion justification additions possession exhilaration creation mentioned conversation deception intentionally aggravation question infatuation toleration preparation decisions reflection companionableness separation discretion opposition companions enumeration deliberation diction expectation description situation constitution conditions termination dejection invitation alleviation imperfections construction provocation rational deviation decision precaution mortification confusion destruction disinclination exultation conclusions repetition reception edtions division allusion anticipation companion insinuations qualification celebration ebullition discussion seclusion instigation condition hesitation infection addition consolation occasion complexion communication conviction demonstrations recollection station felicitations habitation affectation compunction application reparation calculation objections speculation dissatisfaction penetration intention election occasionally mentioning obligation proportionately illusion considerations constitutional duration destination commendation meditations concessions Reflection persecution motionless provision dissipation meditation contrition apprehension extinction occupation publication confession suspicion professions determination subjection resuscitation lamentation approbation ordination prepossession cessation disqualifications temptation Opposition commiseration proportion plantation supposition mediation examination disapprobation solicitations proposition affection consideration compassionate intermission accommodations Mansion conditioned tuition apprehensions provisions opinion solicitation gratification instruction expressions exclamation proportioned questions condemnation articulation excursion Conversation affectionate variations interruption religion assertion persecutions indignation lamentations objection inclination distinction conversations discrimination suggestion succession option generations conclusion impression reconciliation admiration affections preparations additional fashion vindication education agitation qualifications pretensions observations inattention notion unfashionable sensation invitations intentions opinions annihilation profession variation satisfaction accommodation caution exertion relationship attraction resolution permission consumption situations occasional recognition Preparation possessions injunction exertions perfection foundations seduction relation animation introduction estimation elucidation afflictions intoxication expression plantations production submission inclinations accusation congratulations reputation continuation ejaculation perfections sensations misapprehension discussions prosecution expectations explanation contraction effusions circumspection effusion declaration detection restriction abstraction passionately Prescriptions indication investigation'"
      ]
     },
     "execution_count": 4,
     "metadata": {},
     "output_type": "execute_result"
    }
   ],
   "source": [
    "# Question1 (B)\n",
    "words_collection = [] ## Create new list.\n",
    "for word in Words_List: ## For loop that iterates over words_list.\n",
    "    if 'ion' in word: ## add word to Words_collection list if word contains ion.\n",
    "        words_collection.append(word)\n",
    "## join function used to convert from list to string and set used to remove the duplicate words.\n",
    "' '.join(set(words_collection))"
   ]
  },
  {
   "cell_type": "code",
   "execution_count": 5,
   "metadata": {},
   "outputs": [
    {
     "data": {
      "text/plain": [
       "'By Again THIS IS SHE Every Shall So Bad M Upon Scott WAS SHALL DEAR ARE WILL Born It Well Mr She Use OWN Short There If My Soon Last NOW HERS John Not Law ALL Fifty Four LONG Could HER HE Madam Eliza Mary Now About Drury House Were Being Sure SIR Such US Did WERE None In Some MY Thank THE Yet DID Your Pity HAS L WHAT MADAM That East April Quite Exert Happy Farm More LET Early Queen Three Of Lady Nor Bond Brown Hum Hush Hour Among Each FAITH ANY Half TIME Sir Lucy Anne Look Time Other COULD Allow Combe Wait Like II After Can TWO Thus THEIR Nay For Take Here Tell MIND Mine Cruel Duty Truth S Very WHERE At Oh To Add BEEN La Mrs Harry Her Think THREE Where Never One WE Music Is While Much Lane VERY IN Sit YOU KNEW Dear They Pray Mall Do Nancy Most TRIED He Sally Men DOES Ay STILL Biddy No What May AM LOOK When Then Smith Have Two Gray This HIM CAN THEN HIS Esq Cross Which Aye Pope Betty Eager Since Miss Lord Why Was Civil Am Five OUGHT Cold Hon Sense Court LESS DO With Just St Get TOLD The Mamma Or ME Magna Will Good THESE Go NOT WOULD F Know As Would And Still Long Rose TWICE W Mind An Has Godby Those Many Mab From March Must JOHN MONTH WORD Ah Grey Their Fanny Whom But Poor Yes High Mama Tis Only BOTH Hope YOUR MAY END Jane Gone ONCE Dr Folly Going Bath Inn HAD Few ONE His Even Down Come THAT Are THEY Mid Twill Want Till Pall A Had Who MUST P DRAW God Once New These You All LUCY D Park James How Seven Life On Does We Twice Don Me Pratt Far I Henry THERE Our THEM Ma Let'"
      ]
     },
     "execution_count": 5,
     "metadata": {},
     "output_type": "execute_result"
    }
   ],
   "source": [
    "# Question1 (C)\n",
    "words_collection = [] ## Create new list.\n",
    "for word in Words_List: ## For loop that iterates over words_list.\n",
    "## add word to Words_collection list if word having an initial capital and word length is less than 6 letters.\n",
    "    if word[0].isupper() and len(word) < 6: \n",
    "        words_collection.append(word)\n",
    "## join function used to convert from list to string and set used to remove the duplicate words.\n",
    "' '.join(set(words_collection))"
   ]
  },
  {
   "cell_type": "code",
   "execution_count": 6,
   "metadata": {},
   "outputs": [
    {
     "data": {
      "text/plain": [
       "'unison unspeakable unaccountably unlocked undervalued undeceive disbelief unnoticed disappointment unreserved unreasonable dissatisfaction unpleasantest disinterested distinguished ungrateful undoubtingly unjust uncle universally uncouth uneasiness disapproves dismissed distinction unpleasantness unpremeditated discrimination dispatches disposition disproportion unfortunately unfit unintentional untied unawares dismiss undervalue ungraciously distrust unitedly disturb unmoved unsatiable unlucky unresisted disadvantage unsettle unites discarded unjustifiable uncheerful unable unfolded universal unhappiness discern uncivil uncommon unamiable unaccountable dispatch dissipation unreserve disinherited ungracious discharged unworthiness undecided unstudied discharge unemployed unworthy unfashionable unshaken undoubted unrestrained disengagement unseen unembarrassed uncordial unlikely dishonorable disregarded undesignedly disapproved disinterestedness disorder undoubtedly unfavourable disappeared disgrace untouched distant uninformed unblemished disastrous discovery unless unobtrusive discomposed unkind discontented unsteady unequivocal unconnected disgraceful unwarily unconscious disturbed disqualifications unforeseen discretion unfortunate distractedly dispatched unfatherly unhappy unconquerable uninfluenced understand unreasonably discreet unbroken dissipated unprincipled discompose dissatisfied discourse discovered distinguish disgusted uniformly unthought distress undesirable unexpressed unconcern unanimous discontent disappoint unsolicited unbiased unsubdued disapprobation undivided university disagreement unavoidably unacknowledged unsuspected disarm undergone unwell disgust unkindly unkindness unlover unnatural dissent disrespectfully uneasy distance unpardonable display dissented dismounted dispirited disappointed united disinclination undressed discontents unavoidable dispute unwelcome ungenteel dissimilar unfathomable unsuitable uncertainty dispose unfulfilled unwillingly uncertain unpacked disordered unequal distressed unconcerned disregard untried discover unbounded dissuade unite unsuited unanswerable unfairly unlike unread disputes unabated unobserved discussion unluckily discussions disposed under unaffectedly unguarded uncomfortable disengaged disagreeable unobtrusiveness unexpected displeased unusually unquiet unaffected unpardoned unexpectedly disclosure unknowingly disgraced unintelligible unusual disquiet displayed disposal unfeigned unfair disobedient unchanged unpleasant disliked understood disagreements unnecessary disappointments disapprove dislike unwillingness unsuitableness unwounded displeasure uniform distresses dispersed distrusts ungenerous discernment undertake uncommonly unknown'"
      ]
     },
     "execution_count": 6,
     "metadata": {},
     "output_type": "execute_result"
    }
   ],
   "source": [
    "# Question1 (D)\n",
    "words_collection = [] ## Create new list.\n",
    "for word in Words_List: ## For loop that iterates over words_list.\n",
    "    if not word.endswith('ing')  and word.startswith(('un' ,'dis')):\n",
    "## add word to Words_collection list if word not ending in ‘ing’ and starting with ‘dis’ or ‘un’.\n",
    "        words_collection.append(word)\n",
    "## join function used to convert from list to string and set used to remove the duplicate words.       \n",
    "' '.join(set(words_collection))"
   ]
  },
  {
   "cell_type": "code",
   "execution_count": 7,
   "metadata": {
    "scrolled": true
   },
   "outputs": [
    {
     "data": {
      "text/plain": [
       "[('the', 13721),\n",
       " ('of', 6536),\n",
       " ('and', 6024),\n",
       " ('a', 4569),\n",
       " ('to', 4542),\n",
       " ('in', 3916),\n",
       " ('that', 2982),\n",
       " ('his', 2459),\n",
       " ('it', 2209),\n",
       " ('I', 2124),\n",
       " ('s', 1739),\n",
       " ('is', 1695),\n",
       " ('he', 1661),\n",
       " ('with', 1659),\n",
       " ('was', 1632),\n",
       " ('as', 1620),\n",
       " ('all', 1462),\n",
       " ('for', 1414),\n",
       " ('this', 1280),\n",
       " ('at', 1231)]"
      ]
     },
     "execution_count": 7,
     "metadata": {},
     "output_type": "execute_result"
    }
   ],
   "source": [
    "# Question2\n",
    "## FreqDist function used to collect the number of words.\n",
    "## For loop that iterates over text1.\n",
    "## the first if statement to check the length of word and the second to check if it is alphabet.\n",
    "Text1_Dic = FreqDist([word for word in text1 if len(word) < 6 if word.isalpha()])\n",
    "## print the top 20 frequncy. \n",
    "Text1_Dic.most_common(20)"
   ]
  },
  {
   "cell_type": "code",
   "execution_count": 8,
   "metadata": {},
   "outputs": [
    {
     "data": {
      "text/plain": [
       "'Christ !'"
      ]
     },
     "execution_count": 8,
     "metadata": {},
     "output_type": "execute_result"
    }
   ],
   "source": [
    "# Question3\n",
    "## convert text6 to list the chose last two words and use join function to convert from list to string.\n",
    "' '.join(list(text6)[-2:])"
   ]
  }
 ],
 "metadata": {
  "kernelspec": {
   "display_name": "Python 3",
   "language": "python",
   "name": "python3"
  },
  "language_info": {
   "codemirror_mode": {
    "name": "ipython",
    "version": 3
   },
   "file_extension": ".py",
   "mimetype": "text/x-python",
   "name": "python",
   "nbconvert_exporter": "python",
   "pygments_lexer": "ipython3",
   "version": "3.6.5"
  }
 },
 "nbformat": 4,
 "nbformat_minor": 2
}
